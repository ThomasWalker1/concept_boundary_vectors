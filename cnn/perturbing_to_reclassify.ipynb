{
 "cells": [
  {
   "cell_type": "code",
   "execution_count": 1,
   "metadata": {},
   "outputs": [],
   "source": [
    "import torch\n",
    "from torchvision import datasets, transforms\n",
    "from torch.utils.data import DataLoader, Subset\n",
    "\n",
    "from src import *\n",
    "\n",
    "from tqdm import tqdm\n",
    "import pickle\n",
    "import numpy as np\n",
    "\n",
    "external_path='c:\\\\Users\\\\thoma\\\\Documents\\\\working_docs\\\\LIoT_aidos_external\\\\cnn2'"
   ]
  },
  {
   "cell_type": "code",
   "execution_count": 2,
   "metadata": {},
   "outputs": [
    {
     "data": {
      "text/plain": [
       "CNN(\n",
       "  (encoder): Sequential(\n",
       "    (0): Conv2d(1, 32, kernel_size=(5, 5), stride=(1, 1), padding=(2, 2))\n",
       "    (1): ReLU()\n",
       "    (2): MaxPool2d(kernel_size=2, stride=2, padding=0, dilation=1, ceil_mode=False)\n",
       "    (3): Conv2d(32, 64, kernel_size=(5, 5), stride=(1, 1), padding=(2, 2))\n",
       "    (4): ReLU()\n",
       "    (5): MaxPool2d(kernel_size=2, stride=2, padding=0, dilation=1, ceil_mode=False)\n",
       "    (6): Flatten(start_dim=1, end_dim=-1)\n",
       "    (7): Linear(in_features=3136, out_features=64, bias=True)\n",
       "  )\n",
       "  (out_layer): Linear(in_features=64, out_features=10, bias=True)\n",
       ")"
      ]
     },
     "execution_count": 2,
     "metadata": {},
     "output_type": "execute_result"
    }
   ],
   "source": [
    "model=CNN()\n",
    "model.load_state_dict(torch.load('cnn_mnist.pth'))\n",
    "model.eval()"
   ]
  },
  {
   "cell_type": "code",
   "execution_count": 9,
   "metadata": {},
   "outputs": [],
   "source": [
    "def perturbation_amplitudes_cav(positive_digit,negative_digit,perturbation_increment=1e-2):\n",
    "\n",
    "    pairs=np.load(f'{external_path}\\\\boundary_info\\\\pairs\\\\{positive_digit}_{negative_digit}.npy')\n",
    "    negative_idxs=np.array([int(pair[1]) for pair in pairs],dtype=int)\n",
    "\n",
    "    negative_digit_latents=torch.load(f'{external_path}\\\\latent_activations\\\\{negative_digit}.pt')[negative_idxs]\n",
    "    perturbation=torch.load(f'{external_path}\\\\concept_activation_vectors\\\\{positive_digit}_{negative_digit}.pt')\n",
    "\n",
    "    perturbations=np.zeros(negative_digit_latents.shape[0])\n",
    "    for k in range(negative_digit_latents.shape[0]):\n",
    "        perturbation_amplitude=0\n",
    "        while model.out_layer(negative_digit_latents[k,:]+perturbation_amplitude*perturbation).argmax()!=positive_digit and perturbation_amplitude<2e2:\n",
    "            perturbation_amplitude+=perturbation_increment\n",
    "        perturbations[k]=perturbation_amplitude\n",
    "        if perturbation_amplitude>=2e2:\n",
    "            perturbation_amplitude=np.inf\n",
    "    return perturbations"
   ]
  },
  {
   "cell_type": "code",
   "execution_count": 10,
   "metadata": {},
   "outputs": [
    {
     "name": "stderr",
     "output_type": "stream",
     "text": [
      "8/9: 100%|██████████| 10/10 [03:37<00:00, 21.78s/it]\n"
     ]
    }
   ],
   "source": [
    "pbar=tqdm(range(10))\n",
    "for positive_digit in pbar:\n",
    "    for negative_digit in range(10):\n",
    "        if negative_digit==positive_digit:\n",
    "            continue\n",
    "        pbar.set_description(f'{negative_digit}/9')\n",
    "        perturbations=perturbation_amplitudes_cav(positive_digit,negative_digit)\n",
    "        np.save(f'{external_path}\\\\boundary_info\\\\perturbations_cav\\\\{positive_digit}_{negative_digit}.npy',perturbations)"
   ]
  },
  {
   "cell_type": "code",
   "execution_count": 1,
   "metadata": {},
   "outputs": [],
   "source": [
    "def perturbation_amplitudes_cbv(positive_digit,negative_digit,perturbation_increment=1e-2):\n",
    "\n",
    "    pairs=np.load(f'{external_path}\\\\boundary_info\\\\pairs\\\\{positive_digit}_{negative_digit}.npy')\n",
    "    negative_idxs=np.array([int(pair[1]) for pair in pairs],dtype=int)\n",
    "\n",
    "    negative_digit_latents=torch.load(f'{external_path}\\\\latent_activations\\\\{negative_digit}.pt')[negative_idxs]\n",
    "    perturbation=torch.tensor(np.load(f'{external_path}\\\\concept_boundary_vectors\\\\{positive_digit}_{negative_digit}.npy'))\n",
    "\n",
    "    perturbations=np.zeros(negative_digit_latents.shape[0])\n",
    "    for k in range(negative_digit_latents.shape[0]):\n",
    "        perturbation_amplitude=0\n",
    "        while model.out_layer(negative_digit_latents[k,:]+perturbation_amplitude*perturbation).argmax()!=positive_digit and perturbation_amplitude<2e2:\n",
    "            perturbation_amplitude+=perturbation_increment\n",
    "        perturbations[k]=perturbation_amplitude\n",
    "        if perturbation_amplitude>=2e2:\n",
    "            perturbation_amplitude=np.inf\n",
    "    return perturbations"
   ]
  },
  {
   "cell_type": "code",
   "execution_count": 5,
   "metadata": {},
   "outputs": [
    {
     "name": "stderr",
     "output_type": "stream",
     "text": [
      "8/9: 100%|██████████| 10/10 [03:04<00:00, 18.41s/it]\n"
     ]
    }
   ],
   "source": [
    "pbar=tqdm(range(10))\n",
    "for positive_digit in pbar:\n",
    "    for negative_digit in range(10):\n",
    "        if negative_digit==positive_digit:\n",
    "            continue\n",
    "        pbar.set_description(f'{negative_digit}/9')\n",
    "        perturbations=perturbation_amplitudes_cbv(positive_digit,negative_digit)\n",
    "        np.save(f'{external_path}\\\\boundary_info\\\\perturbations_cbv\\\\{positive_digit}_{negative_digit}.npy',perturbations)"
   ]
  },
  {
   "cell_type": "code",
   "execution_count": null,
   "metadata": {},
   "outputs": [],
   "source": [
    "def perturbation_amplitudes_boundary_normals(positive_digit,negative_digit,perturbation_increment=1e-2):\n",
    "\n",
    "    pairs=np.load(f'{external_path}\\\\boundary_info\\\\pairs\\\\{positive_digit}_{negative_digit}.npy')\n",
    "    negative_idxs=np.array([int(pair[1]) for pair in pairs],dtype=int)\n",
    "\n",
    "    negative_digit_latents=torch.load(f'{external_path}\\\\latent_activations\\\\{negative_digit}.pt')[negative_idxs]\n",
    "    normals=torch.tensor(np.load(f'{external_path}\\\\boundary_info\\\\normals\\\\{positive_digit}_{negative_digit}.npy'))\n",
    "\n",
    "    perturbations=np.zeros(negative_digit_latents.shape[0])\n",
    "    for k in range(negative_digit_latents.shape[0]):\n",
    "        perturbation=normals[k,:]\n",
    "        perturbation_amplitude=0\n",
    "        while model.out_layer(negative_digit_latents[k,:]+perturbation_amplitude*perturbation).argmax()!=positive_digit and perturbation_amplitude<2e2:\n",
    "            perturbation_amplitude+=perturbation_increment\n",
    "        perturbations[k]=perturbation_amplitude\n",
    "        if perturbation_amplitude>=2e2:\n",
    "            perturbation_amplitude=np.inf\n",
    "    return perturbations"
   ]
  },
  {
   "cell_type": "code",
   "execution_count": null,
   "metadata": {},
   "outputs": [],
   "source": [
    "pbar=tqdm(range(10))\n",
    "for positive_digit in pbar:\n",
    "    for negative_digit in range(10):\n",
    "        if negative_digit==positive_digit:\n",
    "            continue\n",
    "        pbar.set_description(f'{negative_digit}/9')\n",
    "        perturbations=perturbation_amplitudes_boundary_normals(positive_digit,negative_digit)\n",
    "        np.save(f'{external_path}\\\\boundary_info\\\\perturbations_boundary_normals\\\\{positive_digit}_{negative_digit}.npy',perturbations)"
   ]
  },
  {
   "cell_type": "code",
   "execution_count": 7,
   "metadata": {},
   "outputs": [],
   "source": [
    "for positive_digit in range(10):\n",
    "    for negative_digit in range(10):\n",
    "        if positive_digit==negative_digit:\n",
    "            continue\n",
    "        perturbations_cav=np.load(f'{external_path}\\\\boundary_info\\\\perturbations_cav\\\\{positive_digit}_{negative_digit}.npy')\n",
    "        perturbations_cbv=np.load(f'{external_path}\\\\boundary_info\\\\perturbations_cbv\\\\{positive_digit}_{negative_digit}.npy')\n",
    "        ratios=perturbations_cav/perturbations_cbv\n",
    "        np.save(f'{external_path}\\\\boundary_info\\\\ratio_perturbations_cav_cbv\\\\{positive_digit}_{negative_digit}.npy',ratios)"
   ]
  }
 ],
 "metadata": {
  "kernelspec": {
   "display_name": "transformers",
   "language": "python",
   "name": "python3"
  },
  "language_info": {
   "codemirror_mode": {
    "name": "ipython",
    "version": 3
   },
   "file_extension": ".py",
   "mimetype": "text/x-python",
   "name": "python",
   "nbconvert_exporter": "python",
   "pygments_lexer": "ipython3",
   "version": "3.12.3"
  }
 },
 "nbformat": 4,
 "nbformat_minor": 2
}
