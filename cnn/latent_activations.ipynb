{
 "cells": [
  {
   "cell_type": "code",
   "execution_count": 1,
   "metadata": {},
   "outputs": [],
   "source": [
    "import torch\n",
    "from torchvision import datasets, transforms\n",
    "from torch.utils.data import DataLoader, Subset\n",
    "\n",
    "from src import *\n",
    "\n",
    "from tqdm import tqdm\n",
    "import pickle\n",
    "\n",
    "external_path=''"
   ]
  },
  {
   "cell_type": "code",
   "execution_count": 2,
   "metadata": {},
   "outputs": [
    {
     "data": {
      "text/plain": [
       "CNN(\n",
       "  (encoder): Sequential(\n",
       "    (0): Conv2d(1, 32, kernel_size=(5, 5), stride=(1, 1), padding=(2, 2))\n",
       "    (1): ReLU()\n",
       "    (2): MaxPool2d(kernel_size=2, stride=2, padding=0, dilation=1, ceil_mode=False)\n",
       "    (3): Conv2d(32, 64, kernel_size=(5, 5), stride=(1, 1), padding=(2, 2))\n",
       "    (4): ReLU()\n",
       "    (5): MaxPool2d(kernel_size=2, stride=2, padding=0, dilation=1, ceil_mode=False)\n",
       "    (6): Flatten(start_dim=1, end_dim=-1)\n",
       "    (7): Linear(in_features=3136, out_features=64, bias=True)\n",
       "  )\n",
       "  (out_layer): Linear(in_features=64, out_features=10, bias=True)\n",
       ")"
      ]
     },
     "execution_count": 2,
     "metadata": {},
     "output_type": "execute_result"
    }
   ],
   "source": [
    "model=CNN()\n",
    "model.load_state_dict(torch.load('cnn_mnist.pth'))\n",
    "model.eval()"
   ]
  },
  {
   "cell_type": "code",
   "execution_count": 3,
   "metadata": {},
   "outputs": [],
   "source": [
    "batch_size=1"
   ]
  },
  {
   "cell_type": "code",
   "execution_count": 4,
   "metadata": {},
   "outputs": [],
   "source": [
    "transform = transforms.Compose([\n",
    "    transforms.ToTensor(),\n",
    "    transforms.Normalize((0.1307,), (0.3081,))\n",
    "])\n",
    "\n",
    "test_dataset = datasets.MNIST(root='./data', train=False, transform=transform)\n",
    "test_loader = DataLoader(dataset=test_dataset, batch_size=batch_size, shuffle=False)"
   ]
  },
  {
   "cell_type": "code",
   "execution_count": 5,
   "metadata": {},
   "outputs": [
    {
     "name": "stderr",
     "output_type": "stream",
     "text": [
      "100%|██████████| 10000/10000 [00:16<00:00, 609.41it/s]\n"
     ]
    }
   ],
   "source": [
    "correctly_classified_test_indices={digit:[] for digit in range(10)}\n",
    "pbar=tqdm(enumerate(test_loader),total=len(test_loader))\n",
    "for i,(img,label) in pbar:\n",
    "    if model(img).argmax()==label:\n",
    "        correctly_classified_test_indices[label.item()]+=[i]\n",
    "\n",
    "correctly_classified_test_indices_file=open(f'{external_path}\\\\correctly_classified_test_indices','wb')\n",
    "pickle.dump(correctly_classified_test_indices,correctly_classified_test_indices_file)\n",
    "correctly_classified_test_indices_file.close()"
   ]
  },
  {
   "cell_type": "code",
   "execution_count": 6,
   "metadata": {},
   "outputs": [
    {
     "name": "stderr",
     "output_type": "stream",
     "text": [
      "Digit 9: 985/985: 100%|██████████| 10/10 [00:47<00:00,  4.74s/it] \n"
     ]
    }
   ],
   "source": [
    "pbar=tqdm(range(10))\n",
    "for digit in pbar:\n",
    "    digit_subset=Subset(test_dataset,indices=correctly_classified_test_indices[digit])\n",
    "    digit_subset_loader=DataLoader(digit_subset,batch_size=batch_size)\n",
    "    first_instance=True\n",
    "    for i,(img,label) in enumerate(digit_subset_loader):\n",
    "        pbar.set_description(f'Digit {digit}: {i+1}/{len(digit_subset_loader)}')\n",
    "        if first_instance:\n",
    "            digit_latents=model.encoder(img)\n",
    "            first_instance=False\n",
    "        else:\n",
    "            digit_latents=torch.cat([digit_latents,model.encoder(img)])\n",
    "    torch.save(digit_latents,f'{external_path}\\\\latent_activations\\\\{digit}.pt')"
   ]
  }
 ],
 "metadata": {
  "kernelspec": {
   "display_name": "transformers",
   "language": "python",
   "name": "python3"
  },
  "language_info": {
   "codemirror_mode": {
    "name": "ipython",
    "version": 3
   },
   "file_extension": ".py",
   "mimetype": "text/x-python",
   "name": "python",
   "nbconvert_exporter": "python",
   "pygments_lexer": "ipython3",
   "version": "3.12.3"
  }
 },
 "nbformat": 4,
 "nbformat_minor": 2
}
