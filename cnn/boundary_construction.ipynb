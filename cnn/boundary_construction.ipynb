{
 "cells": [
  {
   "cell_type": "code",
   "execution_count": 1,
   "metadata": {},
   "outputs": [],
   "source": [
    "import torch\n",
    "import numpy as np\n",
    "from tqdm import tqdm\n",
    "import os\n",
    "import pickle\n",
    "\n",
    "external_path=''"
   ]
  },
  {
   "cell_type": "code",
   "execution_count": 2,
   "metadata": {},
   "outputs": [],
   "source": [
    "def boundary_pairs(positive_digit,negative_digit):\n",
    "    positive_digit_latents=torch.load(f'{external_path}\\\\latent_activations\\\\{positive_digit}.pt')\n",
    "    negative_digit_latents=torch.load(f'{external_path}\\\\latent_activations\\\\{negative_digit}.pt')\n",
    "\n",
    "    pairs_from_positive=[]\n",
    "    negative_idxs=[]\n",
    "\n",
    "    for k in range(positive_digit_latents.shape[0]):\n",
    "        positive_latent=positive_digit_latents[k,:]\n",
    "        distances=np.zeros(negative_digit_latents.shape[0])\n",
    "        for l in range(negative_digit_latents.shape[0]):\n",
    "            distances[l]=torch.norm(positive_latent-negative_digit_latents[l,:])\n",
    "        pairs_from_positive.append([k,distances.argmin()])\n",
    "        negative_idxs.append(distances.argmin())\n",
    "\n",
    "    negative_idxs=list(set(negative_idxs))\n",
    "\n",
    "    positive_idxs=[]\n",
    "    pairs_from_negative=[]\n",
    "\n",
    "    for k in range(negative_digit_latents.shape[0]):\n",
    "        negative_latent=negative_digit_latents[k,:]\n",
    "        distances=np.zeros(positive_digit_latents.shape[0])\n",
    "        for l in range(positive_digit_latents.shape[0]):\n",
    "            distances[l]=torch.norm(negative_latent-positive_digit_latents[l,:])\n",
    "        pairs_from_negative.append([distances.argmin(),k])\n",
    "        positive_idxs.append(distances.argmin())\n",
    "\n",
    "    positive_idxs=list(set(positive_idxs))\n",
    "\n",
    "    pairs=[]\n",
    "\n",
    "    for pair in pairs_from_positive:\n",
    "        if pair[0] in positive_idxs:\n",
    "            pairs.append(pair)\n",
    "        \n",
    "    for pair in pairs_from_negative:\n",
    "        if pair[1] in negative_idxs:\n",
    "            if not(pair in pairs):\n",
    "                pairs.append(pair)\n",
    "\n",
    "    return pairs"
   ]
  },
  {
   "cell_type": "code",
   "execution_count": 4,
   "metadata": {},
   "outputs": [
    {
     "name": "stderr",
     "output_type": "stream",
     "text": [
      "8/9: 100%|██████████| 10/10 [36:05<00:00, 216.51s/it]\n"
     ]
    }
   ],
   "source": [
    "pbar=tqdm(range(10))\n",
    "for positive_digit in pbar:\n",
    "    for negative_digit in range(10):\n",
    "        if positive_digit==negative_digit:\n",
    "            continue\n",
    "        pbar.set_description(f'{negative_digit}/9')\n",
    "        if os.path.exists(f'{external_path}\\\\boundary_info\\\\pairs\\\\{negative_digit}_{positive_digit}.npy'):\n",
    "            pairs_reversed=np.load(f'{external_path}\\\\boundary_info\\\\pairs\\\\{negative_digit}_{positive_digit}.npy')\n",
    "            pairs=[[pair[1],pair[0]] for pair in pairs_reversed]\n",
    "        else:\n",
    "            pairs=boundary_pairs(positive_digit,negative_digit)\n",
    "        np.save(f'{external_path}\\\\boundary_info\\\\pairs\\\\{positive_digit}_{negative_digit}.npy',np.array(pairs))"
   ]
  },
  {
   "cell_type": "code",
   "execution_count": 13,
   "metadata": {},
   "outputs": [],
   "source": [
    "def boundary_distances(positive_digit,negative_digit):\n",
    "    pairs=np.load(f'{external_path}\\\\boundary_info\\\\pairs\\\\{positive_digit}_{negative_digit}.npy')\n",
    "\n",
    "    positive_digit_latents=torch.load(f'{external_path}\\\\latent_activations\\\\{positive_digit}.pt')\n",
    "    negative_digit_latents=torch.load(f'{external_path}\\\\latent_activations\\\\{negative_digit}.pt')\n",
    "\n",
    "    distances=np.zeros(len(pairs))\n",
    "    for k,pair in enumerate(pairs):\n",
    "        positive_digit_latent=positive_digit_latents[pair[0],:]\n",
    "        negative_digit_latent=negative_digit_latents[pair[1],:]\n",
    "        distances[k]=torch.norm(positive_digit_latent-negative_digit_latent).item()\n",
    "    np.save(f'{external_path}\\\\boundary_info\\\\distances\\\\{positive_digit}_{negative_digit}.npy',distances)"
   ]
  },
  {
   "cell_type": "code",
   "execution_count": 14,
   "metadata": {},
   "outputs": [
    {
     "name": "stderr",
     "output_type": "stream",
     "text": [
      "100%|██████████| 10/10 [00:00<00:00, 14.45it/s]\n"
     ]
    }
   ],
   "source": [
    "pbar=tqdm(range(10))\n",
    "for positive_digit in pbar:\n",
    "    for negative_digit in range(10):\n",
    "        if positive_digit==negative_digit:\n",
    "            continue\n",
    "        boundary_distances(positive_digit,negative_digit)"
   ]
  },
  {
   "cell_type": "code",
   "execution_count": 14,
   "metadata": {},
   "outputs": [],
   "source": [
    "def boundary_normals(positive_digit,negative_digit):\n",
    "    pairs=np.load(f'{external_path}\\\\boundary_info\\\\pairs\\\\{positive_digit}_{negative_digit}.npy')\n",
    "\n",
    "    positive_digit_latents=torch.load(f'{external_path}\\\\latent_activations\\\\{positive_digit}.pt')\n",
    "    negative_digit_latents=torch.load(f'{external_path}\\\\latent_activations\\\\{negative_digit}.pt')\n",
    "\n",
    "    for k,pair in enumerate(pairs):\n",
    "        positive_digit_latent=positive_digit_latents[pair[0],:]\n",
    "        negative_digit_latent=negative_digit_latents[pair[1],:]\n",
    "        if k==0:\n",
    "            normal_vector=positive_digit_latent-negative_digit_latent\n",
    "            normal_vector/=torch.norm(normal_vector).item()\n",
    "            normals=normal_vector.unsqueeze(0).detach().numpy()\n",
    "        else:\n",
    "            normal_vector=positive_digit_latent-negative_digit_latent\n",
    "            normal_vector/=torch.norm(normal_vector).item()\n",
    "            normals=np.concatenate([normals,normal_vector.unsqueeze(0).detach().numpy()])\n",
    "    np.save(f'{external_path}\\\\boundary_info\\\\normals\\\\{positive_digit}_{negative_digit}.npy',normals)"
   ]
  },
  {
   "cell_type": "code",
   "execution_count": 15,
   "metadata": {},
   "outputs": [
    {
     "name": "stderr",
     "output_type": "stream",
     "text": [
      "100%|██████████| 10/10 [00:00<00:00, 21.85it/s]\n"
     ]
    }
   ],
   "source": [
    "pbar=tqdm(range(10))\n",
    "for positive_digit in pbar:\n",
    "    for negative_digit in range(10):\n",
    "        if positive_digit==negative_digit:\n",
    "            continue\n",
    "        boundary_normals(positive_digit,negative_digit)"
   ]
  },
  {
   "cell_type": "code",
   "execution_count": null,
   "metadata": {},
   "outputs": [],
   "source": [
    "def boundary_dots_cav(positive_digit,negative_digit):\n",
    "    normals=np.load(f'{external_path}\\\\boundary_info\\\\normals\\\\{positive_digit}_{negative_digit}.npy')\n",
    "    cav=torch.load(f'{external_path}\\\\concept_activation_vectors\\\\{positive_digit}_{negative_digit}.pt')\n",
    "    dots=np.zeros(len(normals))\n",
    "    for k,normal in enumerate(normals):\n",
    "        dots[k]=torch.dot(torch.tensor(normal),cav)\n",
    "    np.save(f'{external_path}\\\\boundary_info\\\\dots_cav\\\\{positive_digit}_{negative_digit}.npy',dots)\n",
    "\n",
    "def boundary_dots_cbv(positive_digit,negative_digit):\n",
    "    normals=np.load(f'{external_path}\\\\boundary_info\\\\normals\\\\{positive_digit}_{negative_digit}.npy')\n",
    "    cbv=np.load(f'{external_path}\\\\concept_boundary_vectors\\\\{positive_digit}_{negative_digit}.npy')\n",
    "    dots=np.zeros(len(normals))\n",
    "    for k,normal in enumerate(normals):\n",
    "        dots[k]=np.dot(normal,cbv)\n",
    "    np.save(f'{external_path}\\\\boundary_info\\\\dots_cbv\\\\{positive_digit}_{negative_digit}.npy',dots)"
   ]
  },
  {
   "cell_type": "code",
   "execution_count": null,
   "metadata": {},
   "outputs": [],
   "source": [
    "pbar=tqdm(range(10))\n",
    "for positive_digit in pbar:\n",
    "    for negative_digit in range(10):\n",
    "        if positive_digit==negative_digit:\n",
    "            continue\n",
    "        boundary_dots_cav(positive_digit,negative_digit)\n",
    "        boundary_dots_cbv(positive_digit,negative_digit)"
   ]
  }
 ],
 "metadata": {
  "kernelspec": {
   "display_name": "transformers",
   "language": "python",
   "name": "python3"
  },
  "language_info": {
   "codemirror_mode": {
    "name": "ipython",
    "version": 3
   },
   "file_extension": ".py",
   "mimetype": "text/x-python",
   "name": "python",
   "nbconvert_exporter": "python",
   "pygments_lexer": "ipython3",
   "version": "3.12.3"
  }
 },
 "nbformat": 4,
 "nbformat_minor": 2
}
