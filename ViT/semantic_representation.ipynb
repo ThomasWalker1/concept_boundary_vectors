{
 "cells": [
  {
   "cell_type": "code",
   "execution_count": 1,
   "metadata": {},
   "outputs": [],
   "source": [
    "import torch\n",
    "import numpy as np\n",
    "import einops\n",
    "from tqdm import tqdm\n",
    "import os\n",
    "from datasets import load_dataset\n",
    "import pickle\n",
    "import matplotlib.pyplot as plt\n",
    "\n",
    "external_path=''"
   ]
  },
  {
   "cell_type": "code",
   "execution_count": 2,
   "metadata": {},
   "outputs": [],
   "source": [
    "concepts=['airplane','automobile','bird','cat','deer','dog','frog','horse','ship','truck']"
   ]
  },
  {
   "cell_type": "code",
   "execution_count": 3,
   "metadata": {},
   "outputs": [],
   "source": [
    "dataset = load_dataset(\"uoft-cs/cifar10\")\n",
    "\n",
    "train_set = dataset[\"train\"]\n",
    "test_set = dataset[\"test\"]"
   ]
  },
  {
   "cell_type": "code",
   "execution_count": 6,
   "metadata": {},
   "outputs": [],
   "source": [
    "class AutoEncoder(torch.nn.Module):\n",
    "    def __init__(self, activation_size, n_dict_components, t_type=torch.float32):\n",
    "        super(AutoEncoder, self).__init__()\n",
    "        \n",
    "        self.decoder = torch.nn.Linear(n_dict_components, activation_size, bias=True)\n",
    "        self.encoder_bias= torch.nn.Parameter(torch.zeros(n_dict_components))\n",
    "        torch.nn.init.orthogonal_(self.decoder.weight)\n",
    "        self.decoder = self.decoder.to(t_type)\n",
    "        self.encoder = torch.nn.Sequential(torch.nn.ReLU()).to(t_type)\n",
    "        self.activation_size = activation_size\n",
    "        self.n_dict_components = n_dict_components\n",
    "\n",
    "    def forward(self, x):\n",
    "        c=self.encoder(x@self.decoder.weight+self.encoder_bias)\n",
    "        self.decoder.weight.data=torch.nn.functional.normalize(self.decoder.weight.data,dim=0)\n",
    "        x_hat=self.decoder(c)\n",
    "        return x_hat,c\n",
    "    \n",
    "def AutoEncoderLoss(inputs,target,alpha=1e-3):\n",
    "    return torch.norm(target-inputs[0],p=2,dim=1).pow(2)+alpha*torch.norm(inputs[1],p=1,dim=1)"
   ]
  },
  {
   "cell_type": "code",
   "execution_count": 17,
   "metadata": {},
   "outputs": [],
   "source": [
    "def feature_dictionary_construction(concepts,layer,expansion_factor=4,epochs=50,batch_size=128,lr=1e-3,alpha=1e-3):\n",
    "    for n,category in enumerate(concepts):\n",
    "        for k in range(1,11):\n",
    "            if n==0 and k==1:\n",
    "                activations=torch.load(f'{external_path}\\\\concept_token_activations\\\\{category}\\\\layer{layer}_{k}.pt').squeeze(1)\n",
    "            else:\n",
    "                activations=torch.cat([activations,torch.load(f'{external_path}\\\\concept_token_activations\\\\{category}\\\\layer{layer}_{k}.pt').squeeze(1)])\n",
    "    activations=activations.detach()\n",
    "\n",
    "    sparse_autoencoder=AutoEncoder(activations.shape[1],expansion_factor*activations.shape[1])\n",
    "    optimizer=torch.optim.Adam(sparse_autoencoder.parameters(),lr=lr)\n",
    "\n",
    "    dataset_size=activations.shape[0]\n",
    "    for epoch in range(epochs):\n",
    "        epoch_loss=0\n",
    "        epoch_cycles=dataset_size//batch_size\n",
    "        if dataset_size%batch_size==0:\n",
    "            epoch_cycles+=1\n",
    "        \n",
    "        for k in range(epoch_cycles):\n",
    "            if k==epoch_cycles-1:\n",
    "                epoch_activations=activations[k*batch_size:,:]\n",
    "            else:\n",
    "                epoch_activations=activations[k*batch_size:(k+1)*batch_size,:]\n",
    "            optimizer.zero_grad()\n",
    "            outputs=sparse_autoencoder(epoch_activations)\n",
    "            loss=AutoEncoderLoss(outputs,epoch_activations,alpha).mean()\n",
    "            loss.backward()\n",
    "            optimizer.step()\n",
    "            epoch_loss+=loss*epoch_activations.shape[0]\n",
    "        epoch_loss/=activations.shape[0]\n",
    "    return sparse_autoencoder,epoch_loss\n"
   ]
  },
  {
   "cell_type": "code",
   "execution_count": 18,
   "metadata": {},
   "outputs": [
    {
     "name": "stderr",
     "output_type": "stream",
     "text": [
      "truck_ship: 100%|██████████| 10/10 [46:01<00:00, 276.16s/it]                           \n"
     ]
    }
   ],
   "source": [
    "layer=1\n",
    "if not(os.path.exists(f'{external_path}\\\\features\\\\{layer}')):\n",
    "    os.makedirs(f'{external_path}\\\\features\\\\{layer}')\n",
    "pbar=tqdm(concepts)\n",
    "for positive_concept in pbar:\n",
    "    for negative_concept in concepts:\n",
    "        if positive_concept==negative_concept:\n",
    "            continue\n",
    "        pbar.set_description(f'{positive_concept}_{negative_concept}')\n",
    "        if os.path.exists(f'{external_path}\\\\features\\\\{layer}\\\\losses'):\n",
    "            losses_file=open(f'{external_path}\\\\features\\\\{layer}\\\\losses','rb')\n",
    "            losses=pickle.load(losses_file)\n",
    "            losses_file.close()\n",
    "        else:\n",
    "            losses={}\n",
    "\n",
    "        if not(os.path.exists(f'{external_path}\\\\features\\\\{layer}\\\\{positive_concept}_{negative_concept}')):\n",
    "            os.mkdir(f'{external_path}\\\\features\\\\{layer}\\\\{positive_concept}_{negative_concept}')\n",
    "\n",
    "        if os.path.exists(f'{external_path}\\\\features\\\\{layer}\\\\{negative_concept}_{positive_concept}'):\n",
    "            model_state_dict=torch.load(f'{external_path}\\\\features\\\\{layer}\\\\{negative_concept}_{positive_concept}\\\\model.pt')\n",
    "            torch.save(model_state_dict,f'{external_path}\\\\features\\\\{layer}\\\\{positive_concept}_{negative_concept}\\\\model.pt')\n",
    "            losses[f'{positive_concept}_{negative_concept}']=losses[f'{negative_concept}_{positive_concept}']\n",
    "        else:\n",
    "            pbar.set_description(f'{positive_concept}_{negative_concept}...training model...')\n",
    "            model,loss=feature_dictionary_construction([positive_concept,negative_concept],layer)\n",
    "            torch.save(model.state_dict(),f'{external_path}\\\\features\\\\{layer}\\\\{positive_concept}_{negative_concept}\\\\model.pt')\n",
    "            losses[f'{positive_concept}_{negative_concept}']=loss\n",
    "        losses_file=open(f'{external_path}\\\\features\\\\{layer}\\\\losses','wb')\n",
    "        pickle.dump(losses,losses_file)\n",
    "        losses_file.close()"
   ]
  },
  {
   "cell_type": "code",
   "execution_count": 19,
   "metadata": {},
   "outputs": [],
   "source": [
    "def activation_decomposition_to_features(concept_1,concept_2,layer,expansion_factor=4):\n",
    "\n",
    "    for k in range(1,11):\n",
    "        if k==1:\n",
    "            concept_1_activations=torch.load(f'{external_path}\\\\concept_token_activations\\\\{concept_1}\\\\layer{layer}_{k}.pt').squeeze(1)\n",
    "        else:\n",
    "            concept_1_activations=torch.cat([concept_1_activations,torch.load(f'{external_path}\\\\concept_token_activations\\\\{concept_1}\\\\layer{layer}_{k}.pt').squeeze(1)])\n",
    "\n",
    "    for k in range(1,11):\n",
    "        if k==1:\n",
    "            concept_2_activations=torch.load(f'{external_path}\\\\concept_token_activations\\\\{concept_2}\\\\layer{layer}_{k}.pt').squeeze(1)\n",
    "        else:\n",
    "            concept_2_activations=torch.cat([concept_2_activations,torch.load(f'{external_path}\\\\concept_token_activations\\\\{concept_2}\\\\layer{layer}_{k}.pt').squeeze(1)])\n",
    "    \n",
    "\n",
    "    sparse_autoencoder=AutoEncoder(concept_1_activations.shape[1],expansion_factor*concept_1_activations.shape[1])\n",
    "    sparse_autoencoder.load_state_dict(torch.load(f'{external_path}\\\\features\\\\{layer}\\\\{concept_1}_{concept_2}\\\\model.pt'))\n",
    "    sparse_autoencoder.eval()\n",
    "\n",
    "    c_concept_1=sparse_autoencoder.encoder(concept_1_activations@sparse_autoencoder.decoder.weight+sparse_autoencoder.encoder_bias)\n",
    "    c_concept_2=sparse_autoencoder.encoder(concept_2_activations@sparse_autoencoder.decoder.weight+sparse_autoencoder.encoder_bias)\n",
    "\n",
    "    torch.save(c_concept_1,f'{external_path}\\\\features\\\\{layer}\\\\{concept_1}_{concept_2}\\\\{concept_1}_decompositions.pt')\n",
    "    torch.save(c_concept_2,f'{external_path}\\\\features\\\\{layer}\\\\{concept_1}_{concept_2}\\\\{concept_2}_decompositions.pt')\n"
   ]
  },
  {
   "cell_type": "code",
   "execution_count": 20,
   "metadata": {},
   "outputs": [
    {
     "name": "stderr",
     "output_type": "stream",
     "text": [
      "truck_ship: 100%|██████████| 10/10 [00:42<00:00,  4.22s/it]        \n"
     ]
    }
   ],
   "source": [
    "layer=1\n",
    "pbar=tqdm(concepts)\n",
    "for positive_concept in pbar:\n",
    "    for negative_concept in concepts:\n",
    "        if positive_concept==negative_concept:\n",
    "            continue\n",
    "        pbar.set_description(f'{positive_concept}_{negative_concept}')\n",
    "        activation_decomposition_to_features(positive_concept,negative_concept,layer)"
   ]
  },
  {
   "cell_type": "code",
   "execution_count": 39,
   "metadata": {},
   "outputs": [],
   "source": [
    "def features_similar_to_concept_vector(positive_concept,negative_concept,layer,concept_vector_type='cav',expansion_factor=4):\n",
    "\n",
    "    for k in range(1,11):\n",
    "        if k==1:\n",
    "            positive_concept_activations=torch.load(f'{external_path}\\\\concept_token_activations\\\\{positive_concept}\\\\layer{layer}_{k}.pt').squeeze(1)\n",
    "        else:\n",
    "            positive_concept_activations=torch.cat([positive_concept_activations,torch.load(f'{external_path}\\\\concept_token_activations\\\\{positive_concept}\\\\layer{layer}_{k}.pt').squeeze(1)])\n",
    "\n",
    "    sparse_autoencoder=AutoEncoder(positive_concept_activations.shape[1],expansion_factor*positive_concept_activations.shape[1])\n",
    "    sparse_autoencoder.load_state_dict(torch.load(f'{external_path}\\\\features\\\\{layer}\\\\{positive_concept}_{negative_concept}\\\\model.pt'))\n",
    "    sparse_autoencoder.eval()\n",
    "\n",
    "    feature_dictionary=sparse_autoencoder.decoder.weight.data\n",
    "\n",
    "    if concept_vector_type=='cav':\n",
    "        concept_vector=torch.load(f'{external_path}\\\\concept_activation_vectors\\\\{layer}\\\\{positive_concept}_{negative_concept}.pt')\n",
    "    elif concept_vector_type=='cbv':\n",
    "        concept_vector=torch.load(f'{external_path}\\\\concept_boundary_vectors\\\\{layer}\\\\{positive_concept}_{negative_concept}.pt')\n",
    "    else:\n",
    "        raise ValueError('Enter valid concept vector, either cav or cbv')\n",
    "\n",
    "    activation_decompositions=torch.cat([torch.load(f'{external_path}\\\\features\\\\{layer}\\\\{positive_concept}_{negative_concept}\\\\{positive_concept}_decompositions.pt'),torch.load(f'{external_path}\\\\features\\\\{layer}\\\\{positive_concept}_{negative_concept}\\\\{negative_concept}_decompositions.pt')])\n",
    "\n",
    "    sparsities=torch.sum(activation_decompositions>0,axis=0)/activation_decompositions.shape[0]\n",
    "    \n",
    "    alive_features=torch.where(sparsities>0)\n",
    "    alive_features_dictionary=feature_dictionary[:,alive_features[0]]\n",
    "\n",
    "    alive_features_dictionary=alive_features_dictionary-torch.mean(alive_features_dictionary,axis=1,keepdim=True)\n",
    "    \n",
    "    dots_with_concept_vector=np.zeros(alive_features_dictionary.shape[1])\n",
    "\n",
    "    for k in range(alive_features_dictionary.shape[1]):\n",
    "        dots_with_concept_vector[k]=(torch.dot(concept_vector,alive_features_dictionary[:,k])/torch.norm(alive_features_dictionary[:,k])).item()\n",
    "\n",
    "    dots_argsort=np.flip(np.argsort(dots_with_concept_vector)[-5:])\n",
    "\n",
    "    most_similar_features=alive_features[0].numpy()[dots_argsort]\n",
    "    most_similar_features_dots=dots_with_concept_vector[dots_argsort]\n",
    "\n",
    "    firing_images_relative=np.zeros((5,5),dtype=int)\n",
    "    for n in range(5):\n",
    "        firing_images_relative[n,:]=torch.argsort(activation_decompositions[:,most_similar_features[n]],descending=True)[:5].detach().numpy()\n",
    "\n",
    "    concept_correctly_classified_indices_file=open(f'{external_path}\\\\concept_correctly_classified_indices','rb')\n",
    "    concept_correctly_classified_indices=pickle.load(concept_correctly_classified_indices_file)\n",
    "    concept_correctly_classified_indices_file.close()\n",
    "\n",
    "    correctly_classified_indices=np.concatenate([concept_correctly_classified_indices[positive_concept],concept_correctly_classified_indices[negative_concept]])\n",
    "\n",
    "    firing_images_absolute=np.zeros((5,5),dtype=int)\n",
    "    for n in range(5):\n",
    "        firing_images_absolute[n,:]=correctly_classified_indices[firing_images_relative[n,:]]\n",
    "    \n",
    "    fig,axs=plt.subplots(nrows=5,ncols=5,layout='constrained')\n",
    "    if concept_vector_type=='cav':\n",
    "        fig.suptitle('Features Most Similar to CAV')\n",
    "    elif concept_vector_type=='cbv':\n",
    "        fig.suptitle('Features Most Similar to CBV')\n",
    "    for n in range(5):\n",
    "        for k,img in enumerate(test_set[firing_images_absolute[n,:]]['img']):\n",
    "            idx=k\n",
    "            axs[n,idx].imshow(np.array(img))\n",
    "            if idx==0:\n",
    "                axs[n,idx].set_title(f'Feature {most_similar_features[n].item()}',fontsize=8)\n",
    "            elif idx==1:\n",
    "                axs[n,idx].set_title(f'Similarity {most_similar_features_dots[n]:.3f}',fontsize=8)\n",
    "            axs[n,idx].axis('off')\n",
    "    plt.savefig(f'{external_path}\\\\features\\\\{layer}\\\\{positive_concept}_{negative_concept}\\\\most_similar_{positive_concept}_{negative_concept}_{concept_vector_type}.png')\n",
    "\n",
    "    plt.close()\n",
    "\n",
    "    np.save(f'{external_path}\\\\features\\\\{layer}\\\\{positive_concept}_{negative_concept}\\\\most_similar_{positive_concept}_{negative_concept}_{concept_vector_type}.npy',most_similar_features)\n",
    "    np.save(f'{external_path}\\\\features\\\\{layer}\\\\{positive_concept}_{negative_concept}\\\\dots_with_concept_{positive_concept}_{negative_concept}_{concept_vector_type}.npy',dots_with_concept_vector)"
   ]
  },
  {
   "cell_type": "code",
   "execution_count": 40,
   "metadata": {},
   "outputs": [
    {
     "name": "stderr",
     "output_type": "stream",
     "text": [
      "Layer 1: truck_ship CBV: 100%|██████████| 10/10 [03:40<00:00, 22.01s/it]        \n",
      "Layer 6: truck_ship CBV: 100%|██████████| 10/10 [03:47<00:00, 22.80s/it]        \n",
      "Layer 11: truck_ship CBV: 100%|██████████| 10/10 [04:03<00:00, 24.31s/it]        \n"
     ]
    }
   ],
   "source": [
    "layers=[1,6,11]\n",
    "for layer in layers:\n",
    "    pbar=tqdm(concepts)\n",
    "    for positive_concept in pbar:\n",
    "        for negative_concept in concepts:\n",
    "            if positive_concept==negative_concept:\n",
    "                continue\n",
    "            pbar.set_description(f'Layer {layer}: {positive_concept}_{negative_concept} CAV')\n",
    "            features_similar_to_concept_vector(positive_concept,negative_concept,layer)\n",
    "            pbar.set_description(f'Layer {layer}: {positive_concept}_{negative_concept} CBV')\n",
    "            features_similar_to_concept_vector(positive_concept,negative_concept,layer,concept_vector_type='cbv')"
   ]
  },
  {
   "cell_type": "code",
   "execution_count": 74,
   "metadata": {},
   "outputs": [],
   "source": [
    "def random_features(positive_concept,negative_concept,layer,expansion_factor=4):\n",
    "\n",
    "    for k in range(1,11):\n",
    "        if k==1:\n",
    "            positive_concept_activations=torch.load(f'{external_path}\\\\concept_token_activations\\\\{positive_concept}\\\\layer{layer}_{k}.pt').squeeze(1)\n",
    "        else:\n",
    "            positive_concept_activations=torch.cat([positive_concept_activations,torch.load(f'{external_path}\\\\concept_token_activations\\\\{positive_concept}\\\\layer{layer}_{k}.pt').squeeze(1)])\n",
    "\n",
    "    sparse_autoencoder=AutoEncoder(positive_concept_activations.shape[1],expansion_factor*positive_concept_activations.shape[1])\n",
    "    sparse_autoencoder.load_state_dict(torch.load(f'{external_path}\\\\features\\\\{layer}\\\\{positive_concept}_{negative_concept}\\\\model.pt'))\n",
    "    sparse_autoencoder.eval()\n",
    "\n",
    "    feature_dictionary=sparse_autoencoder.decoder.weight.data\n",
    "\n",
    "    activation_decompositions=torch.cat([torch.load(f'{external_path}\\\\features\\\\{layer}\\\\{positive_concept}_{negative_concept}\\\\{positive_concept}_decompositions.pt'),torch.load(f'{external_path}\\\\features\\\\{layer}\\\\{positive_concept}_{negative_concept}\\\\{negative_concept}_decompositions.pt')])\n",
    "\n",
    "    sparsities=torch.sum(activation_decompositions>0,axis=0)/activation_decompositions.shape[0]\n",
    "\n",
    "    alive_features=torch.where(sparsities>0)\n",
    "    alive_features_dictionary=feature_dictionary[:,alive_features[0]]\n",
    "\n",
    "    random_features=alive_features[0][np.random.choice(len(alive_features[0]),size=5,replace=False)]\n",
    "\n",
    "    firing_images_relative=np.zeros((5,5),dtype=int)\n",
    "    for n in range(5):\n",
    "        firing_images_relative[n,:]=torch.argsort(activation_decompositions[:,random_features[n]],descending=True)[:5].detach().numpy()\n",
    "\n",
    "    concept_correctly_classified_indices_file=open(f'{external_path}\\\\concept_correctly_classified_indices','rb')\n",
    "    concept_correctly_classified_indices=pickle.load(concept_correctly_classified_indices_file)\n",
    "    concept_correctly_classified_indices_file.close()\n",
    "\n",
    "    correctly_classified_indices=np.concatenate([concept_correctly_classified_indices[positive_concept],concept_correctly_classified_indices[negative_concept]])\n",
    "\n",
    "    firing_images_absolute=np.zeros((5,5),dtype=int)\n",
    "    for n in range(5):\n",
    "        firing_images_absolute[n,:]=correctly_classified_indices[firing_images_relative[n,:]]\n",
    "\n",
    "    fig,axs=plt.subplots(nrows=5,ncols=5,layout='constrained')\n",
    "    fig.suptitle('Random Features')\n",
    "\n",
    "    for n in range(5):\n",
    "        for k,img in enumerate(test_set[firing_images_absolute[n,:]]['img']):\n",
    "            idx=k\n",
    "            axs[n,idx].imshow(img)\n",
    "            if idx==0:\n",
    "                axs[n,idx].set_title(f'Feature {random_features[n].item()}',fontsize=8)\n",
    "            axs[n,idx].axis('off')\n",
    "\n",
    "    plt.savefig(f'{external_path}\\\\features\\\\{layer}\\\\{positive_concept}_{negative_concept}\\\\random_{positive_concept}_{negative_concept}.png')\n",
    "\n",
    "    plt.close()\n"
   ]
  },
  {
   "cell_type": "code",
   "execution_count": 73,
   "metadata": {},
   "outputs": [
    {
     "name": "stderr",
     "output_type": "stream",
     "text": [
      "Layer 1: truck_ship: 100%|██████████| 10/10 [01:35<00:00,  9.58s/it]        \n",
      "Layer 6: truck_ship: 100%|██████████| 10/10 [01:43<00:00, 10.38s/it]        \n",
      "Layer 11: truck_ship: 100%|██████████| 10/10 [01:43<00:00, 10.36s/it]        \n"
     ]
    }
   ],
   "source": [
    "layers=[1,6,11]\n",
    "for layer in layers:\n",
    "    pbar=tqdm(concepts)\n",
    "    for positive_concept in pbar:\n",
    "        for negative_concept in concepts:\n",
    "            if positive_concept==negative_concept:\n",
    "                continue\n",
    "            pbar.set_description(f'Layer {layer}: {positive_concept}_{negative_concept}')\n",
    "            random_features(positive_concept,negative_concept,layer)"
   ]
  },
  {
   "cell_type": "code",
   "execution_count": 55,
   "metadata": {},
   "outputs": [
    {
     "name": "stderr",
     "output_type": "stream",
     "text": [
      "truck_ship: 100%|██████████| 10/10 [00:52<00:00,  5.27s/it]        \n"
     ]
    }
   ],
   "source": [
    "layers=[int(layer) for layer in os.listdir(f'{external_path}\\\\features') if layer!='aggregated_summary']\n",
    "layers.sort()\n",
    "pbar=tqdm(concepts)\n",
    "for positive_concept in pbar:\n",
    "    for negative_concept in concepts:\n",
    "        if positive_concept==negative_concept:\n",
    "            continue\n",
    "        pbar.set_description(f'{positive_concept}_{negative_concept}')\n",
    "        fig,ax=plt.subplots()\n",
    "        colors=plt.cm.jet(np.linspace(0,1,max(layers)+1))\n",
    "        for layer in layers:\n",
    "            dots_cav=np.load(f'{external_path}\\\\features\\\\{layer}\\\\{positive_concept}_{negative_concept}\\\\dots_with_concept_{positive_concept}_{negative_concept}_cav.npy')\n",
    "            ax.hist(dots_cav,label=f'{layer}',color=colors[layer],alpha=0.5)\n",
    "        ax.set_xlabel('Similarity')\n",
    "        ax.set_title(f'Similarity of Features with {positive_concept}_{negative_concept} CAV')\n",
    "        ax.legend()\n",
    "        plt.savefig(f'{external_path}\\\\features\\\\aggregated_summary\\\\cav_dots_histograms\\\\{positive_concept}_{negative_concept}.png')\n",
    "        plt.close()\n",
    "\n",
    "        fig,ax=plt.subplots()\n",
    "        colors=plt.cm.jet(np.linspace(0,1,max(layers)+1))\n",
    "        for layer in layers:\n",
    "            dots_cbv=np.load(f'{external_path}\\\\features\\\\{layer}\\\\{positive_concept}_{negative_concept}\\\\dots_with_concept_{positive_concept}_{negative_concept}_cbv.npy')\n",
    "            ax.hist(dots_cbv,label=f'{layer}',color=colors[layer],alpha=0.5)\n",
    "        ax.set_title(f'Similarity of Features with {positive_concept}_{negative_concept} CBV')\n",
    "        ax.set_xlabel('Similarity')\n",
    "        ax.legend()\n",
    "        plt.savefig(f'{external_path}\\\\features\\\\aggregated_summary\\\\cbv_dots_histograms\\\\{positive_concept}_{negative_concept}.png')\n",
    "        plt.close()"
   ]
  },
  {
   "cell_type": "code",
   "execution_count": 69,
   "metadata": {},
   "outputs": [
    {
     "name": "stderr",
     "output_type": "stream",
     "text": [
      "airplane_automobile:   0%|          | 0/10 [00:00<?, ?it/s]"
     ]
    },
    {
     "name": "stderr",
     "output_type": "stream",
     "text": [
      "truck_ship: 100%|██████████| 10/10 [00:16<00:00,  1.62s/it]        \n"
     ]
    }
   ],
   "source": [
    "layers=[int(layer) for layer in os.listdir(f'{external_path}\\\\features') if layer!='aggregated_summary']\n",
    "layers.sort()\n",
    "pbar=tqdm(concepts)\n",
    "for positive_concept in pbar:\n",
    "    for negative_concept in concepts:\n",
    "        if positive_concept==negative_concept:\n",
    "            continue\n",
    "        pbar.set_description(f'{positive_concept}_{negative_concept}')\n",
    "        fig,ax=plt.subplots()\n",
    "        colors=plt.cm.jet(np.linspace(0,1,max(layers)+1))\n",
    "        difference_means=[]\n",
    "        for layer in layers:\n",
    "            dots_cav=np.load(f'{external_path}\\\\features\\\\{layer}\\\\{positive_concept}_{negative_concept}\\\\dots_with_concept_{positive_concept}_{negative_concept}_cav.npy')\n",
    "            dots_cbv=np.load(f'{external_path}\\\\features\\\\{layer}\\\\{positive_concept}_{negative_concept}\\\\dots_with_concept_{positive_concept}_{negative_concept}_cbv.npy')\n",
    "            difference_dots=[]\n",
    "            for dot_cav,dot_cbv in zip(dots_cav,dots_cbv):\n",
    "                if dot_cav<0:\n",
    "                    difference_dots.append(np.abs(dot_cbv)-np.abs(dot_cav))\n",
    "                else:\n",
    "                    difference_dots.append(dot_cbv-dot_cav)\n",
    "            difference_means.append(sum(difference_dots)/len(difference_dots))\n",
    "            ax.hist(difference_dots,label=f'{layer}',color=colors[layer],alpha=0.5)\n",
    "        y_max=ax.get_ylim()[1]\n",
    "        for layer,mean in zip(layers,difference_means):\n",
    "            ax.plot([mean,mean],[0,y_max],color=colors[layer],linestyle='--')\n",
    "        ax.set_xlabel('Difference in Similarity')\n",
    "        ax.set_title(f'Difference in Similarity of Features\\n with {positive_concept}_{negative_concept} Concept Vectors')\n",
    "        ax.legend()\n",
    "        plt.savefig(f'{external_path}\\\\features\\\\aggregated_summary\\\\difference_histograms\\\\{positive_concept}_{negative_concept}.png')\n",
    "        plt.close()"
   ]
  }
 ],
 "metadata": {
  "kernelspec": {
   "display_name": "transformers",
   "language": "python",
   "name": "python3"
  },
  "language_info": {
   "codemirror_mode": {
    "name": "ipython",
    "version": 3
   },
   "file_extension": ".py",
   "mimetype": "text/x-python",
   "name": "python",
   "nbconvert_exporter": "python",
   "pygments_lexer": "ipython3",
   "version": "3.12.3"
  }
 },
 "nbformat": 4,
 "nbformat_minor": 2
}
